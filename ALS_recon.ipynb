{
 "cells": [
  {
   "cell_type": "markdown",
   "id": "15715a73-19f3-4984-a551-2f35f0a7a87d",
   "metadata": {
    "tags": []
   },
   "source": [
    "# Beamline 8.3.2 Reconstruction"
   ]
  },
  {
   "cell_type": "code",
   "execution_count": null,
   "id": "690050a5-9d8f-4ed0-b82e-b91522cd774f",
   "metadata": {},
   "outputs": [],
   "source": [
    "%load_ext autoreload\n",
    "%autoreload 2\n",
    "%matplotlib widget\n",
    "import sys\n",
    "import os\n",
    "import multiprocessing as mp\n",
    "os.environ['NUMEXPR_MAX_THREADS'] = str(mp.cpu_count()) # to avoid numexpr warning\n",
    "os.environ['TOMOPY_PYTHON_THREADS'] = str(mp.cpu_count()) # to avoid numexpr warning\n",
    "import time\n",
    "import numexpr\n",
    "import numpy as np\n",
    "from skimage import transform, filters, io\n",
    "import tomopy\n",
    "import svmbir\n",
    "import dxchange\n",
    "import matplotlib.pyplot as plt\n",
    "import ipywidgets as widgets\n",
    "from pathlib import Path\n",
    "from ipywidgets import interact, fixed, FloatSlider, IntSlider\n",
    "import ALS_recon_functions as als\n",
    "import ALS_recon_helper as helper\n",
    "import copy\n",
    "import pandas as pd\n",
    "import base64\n",
    "import pickle\n",
    "from ipyfilechooser import FileChooser\n",
    "\n",
    "use_gpu = als.check_for_gpu()"
   ]
  },
  {
   "cell_type": "markdown",
   "id": "3cc38b6b-c6f2-4122-8c29-17b9504d8aac",
   "metadata": {
    "tags": []
   },
   "source": [
    "## Choose Data"
   ]
  },
  {
   "cell_type": "code",
   "execution_count": null,
   "id": "3af95aaa-ac38-4376-b972-3c4e286c8a2e",
   "metadata": {
    "tags": []
   },
   "outputs": [],
   "source": [
    "dataDir = \"/global/cfs/cdirs/als/users/tomography_notebooks/example_data\" # where is the raw data\n",
    "file_chooser = FileChooser(dataDir)\n",
    "file_chooser.filter_pattern = '*.h5' # only show .h5 files\n",
    "file_chooser.title = f'Choose data file'\n",
    "display(file_chooser)"
   ]
  },
  {
   "cell_type": "markdown",
   "id": "1658ea10-55c0-4c59-b974-741287b46a3b",
   "metadata": {},
   "source": [
    "## Find Center of Rotation (COR)\n",
    "##### Check COR by manually aligning 0 and 180 degree projections\n",
    "Note: not doing anything with y shift at the moment (could use as constant rotation about ray-axis )"
   ]
  },
  {
   "cell_type": "code",
   "execution_count": null,
   "id": "2b1e2f95-aa6f-42e4-ae7d-5ada9aeee61a",
   "metadata": {
    "tags": []
   },
   "outputs": [],
   "source": [
    "if file_chooser.selected is None:\n",
    "    print(\"No datafile selected. Click Select to choose a datafile\")\n",
    "    sys.exit()\n",
    "metadata = als.read_metadata(file_chooser.selected, print_flag = True)\n",
    "tomo, _ = als.read_data(file_chooser.selected, proj=slice(0,None,metadata['numangles']-1), downsample_factor=None, prelog=True)\n",
    "cor_init = als.auto_find_cor(file_chooser.selected) # cross-correlation based COR estimate\n",
    "first_proj, last_proj_flipped = tomo[0], np.fliplr(tomo[-1])\n",
    "\n",
    "axs, img, cor_sliders, cor_out = als.plot_0_and_180_proj_diff(first_proj,\n",
    "                                                              last_proj_flipped,\n",
    "                                                              init_cor=-2*cor_init,\n",
    "                                                              # yshift=True,\n",
    "                                                              fignum=0)\n",
    "                                                            \n",
    "display(cor_sliders,cor_out)"
   ]
  },
  {
   "cell_type": "markdown",
   "id": "4ed96474-0f58-47ba-9cc4-e16da35cd6f0",
   "metadata": {},
   "source": [
    "### Unfold cell below for description of parameters"
   ]
  },
  {
   "cell_type": "markdown",
   "id": "af09686f-7467-40dd-960f-e581f73ed66e",
   "metadata": {
    "jupyter": {
     "source_hidden": true
    },
    "tags": []
   },
   "source": [
    "#### 1. Alignment\n",
    "* **COR:**\n",
    "Initializes to value found above, but can fine tune if desred. With mismatched COR, arc/shadow artifacts appear in image. Adjust COR to minimize artifacts.\n",
    "\n",
    "#### 2. Resolution\n",
    "*Note: On NERSC, reconstruction takes ~2-4 sec/slice with GPU, ~30 sec/slice on CPU at full resolution (1313 ang x 2560 rays).*\n",
    "\n",
    "* **Angle Downsampling:**\n",
    "Downsampling angles by 2x reduces reconstruction time by ~2x, but may introduce streaks through center.\n",
    "\n",
    "* **Projection Downsampling:**\n",
    "Downsampling projections by 2x reduces spatial resolution by 2x, reconstruction time by ~4x (minus loading time).\n",
    "\n",
    "#### 3. Ring Removal\n",
    "*Note: strong stripe removal takes time, can reduce resolution and sometimes even introduce artifacts too, so only use as much as you need to remove visible rings\n",
    "\n",
    "* **Small Ring Size:**\n",
    "Window size of the median filter to remove small stripes. Larger is stronger but takes longer. Set to appx width of small stripes. Always choose odd value, set to 1 to turn off.\n",
    "\n",
    "* **Large Ring Size:**\n",
    "Window size of the median filter to remove large stripes. Set to appx width of large stripes -- should be larger value than Small Ring Size. Always choose odd value, set to 1 to turn off.\n",
    "\n",
    "* **Ring Removal SNR:**\n",
    "Sensitivity of large stripe detection method. Smaller is more sensitive. No affect on small stripes. Recommended values: 1.1 -- 3.0."
   ]
  },
  {
   "cell_type": "markdown",
   "id": "61cf274f-b733-4738-a6d9-1239b89584e8",
   "metadata": {
    "tags": []
   },
   "source": [
    "## Run Following Cell to Choose Reconstruction Parameters"
   ]
  },
  {
   "cell_type": "code",
   "execution_count": null,
   "id": "2d6696a2-29c4-4639-b156-f0acd623196a",
   "metadata": {
    "tags": []
   },
   "outputs": [],
   "source": [
    "plt.ioff() # turn off matplotlib interactive mode -- plots wont immediately display, so can control order better\n",
    "# Initial recon needed to get size/colorscale of plots\n",
    "tomo, angles = als.read_data(file_chooser.selected,\n",
    "                             proj=slice(0,-1,8),\n",
    "                             sino=slice(metadata[\"numslices\"]//2,metadata[\"numslices\"]//2+1,1),\n",
    "                             downsample_factor=1)\n",
    "cor = -cor_sliders.children[0].value/2\n",
    "recon_init = als.astra_fbp_recon(tomo, angles, COR=cor, fc=1, gpu=use_gpu).squeeze()\n",
    "clim_init = [np.percentile(recon_init,1),np.percentile(recon_init,99)]\n",
    "\n",
    "# Reconstructions figures\n",
    "if plt.fignum_exists(1): plt.close(1)\n",
    "recon_comparison_fig, recon_comparison_axs = plt.subplots(1,2,num=1,figsize=(6,3),sharex=True,sharey=True)\n",
    "recon_comparison_img = [None, None]\n",
    "recon_comparison_img[0] = recon_comparison_axs[0].imshow(recon_init,cmap='gray')\n",
    "recon_comparison_axs[0].set_title('Official Recon',fontweight=\"bold\")\n",
    "recon_comparison_axs[0].patch.set_edgecolor('black')  \n",
    "recon_comparison_axs[0].patch.set_linewidth(4)  \n",
    "recon_comparison_img[1] = recon_comparison_axs[1].imshow(recon_init,cmap='gray')\n",
    "recon_comparison_axs[1].set_title('Comparison',color='r', fontsize=10)\n",
    "plt.tight_layout()\n",
    "\n",
    "# Projections figures\n",
    "if plt.fignum_exists(2): plt.close(2)\n",
    "proj_fig, proj_axs = plt.subplots(1,1,num=2,figsize=(6,3),sharex=True,sharey=True)\n",
    "proj_img = proj_axs.imshow(first_proj,cmap='gray')\n",
    "hline_handles = [None, None]\n",
    "hline_handles[0] = proj_axs.axhline(y=0,color='k',linestyle='-')\n",
    "hline_handles[1] = proj_axs.axhline(y=0,color='r',linestyle='--',linewidth=1)\n",
    "proj_axs.set_title('Projection')\n",
    "plt.tight_layout()\n",
    "\n",
    "\n",
    "recon_parameter_widgets, recon_parameters_tab, recon_output = helper.reconstruction_parameter_options(file_chooser.selected,\n",
    "                                                                                                   metadata,\n",
    "                                                                                                   cor,\n",
    "                                                                                                   use_gpu,\n",
    "                                                                                                   recon_comparison_img[0],\n",
    "                                                                                                   hline_handles[0])\n",
    "comparison_parameter_widgets, comparison_parameters_tab, comparison_output = helper.reconstruction_parameter_options(file_chooser.selected,\n",
    "                                                                                                   metadata,\n",
    "                                                                                                   cor,\n",
    "                                                                                                   use_gpu,\n",
    "                                                                                                   recon_comparison_img[1],\n",
    "                                                                                                   hline_handles[1])\n",
    "\n",
    "clim_slider = widgets.interactive(als.set_clim, img=widgets.fixed(recon_comparison_img),\n",
    "                              clims=widgets.FloatRangeSlider(description='Color Scale', layout=widgets.Layout(width='50%'),\n",
    "                                                                   min=recon_init.min(), max=recon_init.max(),\n",
    "                                                                   step=(recon_init.max()-recon_init.min())/500, value=clim_init,\n",
    "                                                                   readout=True, readout_format='.2e'))\n",
    "proj_slider = widgets.interactive(als.set_proj, path=widgets.fixed(file_chooser.selected), img=widgets.fixed(proj_img),\n",
    "                              proj_num=widgets.IntSlider(description='Projection', layout=widgets.Layout(width='50%'),\n",
    "                                                                   min=0, max=metadata[\"numangles\"]-1,\n",
    "                                                                   step=1, value=0))\n",
    "\n",
    "# Haven't played around with layout too much. This part could probably be much fancier\n",
    "recon_header_widget = widgets.HTML(value=f\"<b><font size=3>Official Recon</b>\",layout=widgets.Layout(justify_content=\"center\"))\n",
    "comparison_header_widget = widgets.HTML(value=f\"<b><font size=3>Comparison</b>\",layout=widgets.Layout(justify_content=\"center\"))\n",
    "\n",
    "box_layout = widgets.Layout(width='100%',\n",
    "                            height='100%',\n",
    "                            margin='0,1%,0,1%'\n",
    "                           )\n",
    "box = widgets.Box(children=[widgets.VBox([recon_header_widget,recon_parameters_tab]),\n",
    "                            widgets.VBox([comparison_header_widget,comparison_parameters_tab])]\n",
    "                            ,layout=box_layout)\n",
    "\n",
    "# Display\n",
    "display(box, recon_output, comparison_output) # show recon parameter widgets\n",
    "display(clim_slider) # show color scale widget\n",
    "recon_comparison_fig.show() # show recon figure\n",
    "display(proj_slider) # show projection widget\n",
    "proj_fig.show() # show projection figure\n",
    "plt.ion() # turn matplotlib interactive mode back on"
   ]
  },
  {
   "cell_type": "markdown",
   "id": "bf13eb4d-44e9-4fdc-9894-84f7d78d1db7",
   "metadata": {},
   "source": [
    "### Set Final Reconstruction Settings"
   ]
  },
  {
   "cell_type": "code",
   "execution_count": null,
   "id": "0d90fc23-1f9e-43b8-b090-ffe9eba094b4",
   "metadata": {
    "tags": []
   },
   "outputs": [],
   "source": [
    "save_file_chooser = FileChooser(als.get_scratch_path())\n",
    "save_file_chooser.show_only_dirs = True\n",
    "save_file_chooser.title = f'Choose where to save reconstruction'\n",
    "\n",
    "slices_header_widget = widgets.Label(value=\"Choose which slices to reconstruct\",layout=widgets.Layout(justify_content=\"center\"))\n",
    "\n",
    "start_slice_widget = widgets.BoundedIntText(description='Start Slice',\n",
    "                                min=0,\n",
    "                                max=metadata['numslices']-1,\n",
    "                                step=1,\n",
    "                                value=0,\n",
    "    style={'description_width': 'initial'} # this makes sure description text doesn't get cut off\n",
    ")\n",
    "stop_slice_widget = widgets.BoundedIntText(description='Stop Slice',\n",
    "                                min=0,\n",
    "                                max=metadata['numslices']-1,\n",
    "                                step=1,\n",
    "                                value=metadata['numslices']-1,\n",
    "    style={'description_width': 'initial'} # this makes sure description text doesn't get cut off\n",
    ")\n",
    "slices_box = widgets.VBox([slices_header_widget,start_slice_widget,stop_slice_widget])\n",
    "display(save_file_chooser)\n",
    "display(slices_box)"
   ]
  },
  {
   "cell_type": "code",
   "execution_count": null,
   "id": "f22ccdac-55e9-4a34-9de6-1fae1f679cd7",
   "metadata": {
    "tags": []
   },
   "outputs": [],
   "source": [
    "data_settings = {\n",
    "    \"output_path\": save_file_chooser.selected_path, # existing folder where you can write lots of data\n",
    "    \"data_path\": file_chooser.selected, # don't change\n",
    "    \"name\": os.path.splitext(file_chooser.selected_filename)[0], # don't change\n",
    "    \"start_slice\": start_slice_widget.value,\n",
    "    \"stop_slice\": stop_slice_widget.value,\n",
    "    \"angles_ind\": slice(0,-1,recon_parameter_widgets['angle_downsample'].value), # use every angle \n",
    "    \"proj_downsample\": recon_parameter_widgets['proj_downsample'].value,\n",
    "}\n",
    "\n",
    "preprocess_settings = {\n",
    "    \"snr\": recon_parameter_widgets['ring']['sarepy_snr'].value, \n",
    "    \"la_size\": recon_parameter_widgets['ring']['sarepy_large'].value,\n",
    "    \"sm_size\": recon_parameter_widgets['ring']['sarepy_small'].value,\n",
    "    \"outlier_diff_1D\": recon_parameter_widgets['additional']['outlier_diff'].value,\n",
    "    \"outlier_sizef_1D\": recon_parameter_widgets['additional']['outlier_size'].value,\n",
    "    \"minimum_transmission\": recon_parameter_widgets['additional']['min_transmission'].value\n",
    "}\n",
    "\n",
    "postprocess_settings = {\n",
    "    \"ringSigma\": recon_parameter_widgets['ring']['ringSigma'].value,\n",
    "    \"ringLevel\": recon_parameter_widgets['ring']['ringLevel'].value\n",
    "}\n",
    "\n",
    "recon_settings = {\n",
    "    \"COR\": recon_parameter_widgets['cor'].value/recon_parameter_widgets[\"proj_downsample\"].value, # important to divide by projection downsampling factor\n",
    "    \"fc\": recon_parameter_widgets['fc'].value, \n",
    "    \"use_gpu\": use_gpu\n",
    "}\n",
    "\n",
    "settings = {\"data\": data_settings, \"preprocess\": preprocess_settings, \"postprocess\": postprocess_settings, \"recon\": recon_settings}\n",
    "for subset in settings:\n",
    "   print('\\n' + subset.upper())\n",
    "   for key in settings[subset]:\n",
    "       print(f\"{key}: {settings[subset][key]}\")"
   ]
  },
  {
   "cell_type": "markdown",
   "id": "d87df302-f0e2-40a1-8480-f681a8dfe1fa",
   "metadata": {},
   "source": [
    "## Reconstruct 3D Volume"
   ]
  },
  {
   "cell_type": "markdown",
   "id": "eaf71897-0bff-4336-b50d-65289207d9c3",
   "metadata": {
    "tags": []
   },
   "source": [
    "### Reconstruct and save in notebook\n",
    "###### Perlmutter Exclusive GPU node can reconstruct 100 slices in ~10-30 sec. On Exclusive CPU node it's ??? sec\n",
    "##### *Note: For more efficient workflow, submit reconstruction to NERSC batch job (see below)*"
   ]
  },
  {
   "cell_type": "code",
   "execution_count": null,
   "id": "19102299-c94f-4c8b-989e-b7ee02a541e2",
   "metadata": {},
   "outputs": [],
   "source": [
    "nchunk = 50 # Balance between available cpus and memory (larger value can be more parallelized but uses more memory). 50 was empirically chosen on Perlmutter exclusive node, though 100 was more or less the same.\n",
    "save_dir = os.path.join(settings[\"data\"][\"output_path\"],settings[\"data\"][\"name\"])\n",
    "if not os.path.exists(save_dir): os.makedirs(save_dir)\n",
    "save_name = os.path.join(save_dir,\"img\")\n",
    "for i in range(np.ceil((settings[\"data\"]['stop_slice']-settings[\"data\"]['start_slice'])/nchunk).astype(int)):\n",
    "    start_iter = settings[\"data\"]['start_slice']+i*nchunk\n",
    "    stop_iter = np.minimum(start_iter+nchunk,settings[\"data\"]['stop_slice'])\n",
    "    print(f\"Starting recon of slices {start_iter}-{stop_iter}...\",end=' ')\n",
    "    tic = time.time()\n",
    "\n",
    "    recon = helper.default_reconstruction(path=settings[\"data\"][\"data_path\"],\n",
    "                           angles_ind=settings[\"data\"]['angles_ind'],\n",
    "                           slices_ind=slice(start_iter,stop_iter,1),\n",
    "                           proj_downsample=settings[\"data\"][\"proj_downsample\"],\n",
    "                           COR=settings[\"recon\"][\"COR\"],\n",
    "                           fc=settings[\"recon\"][\"fc\"],\n",
    "                           preprocessing_args=settings[\"preprocess\"],\n",
    "                           postprocessing_args=settings[\"postprocess\"],\n",
    "                           use_gpu=settings[\"recon\"][\"use_gpu\"])\n",
    "\n",
    "    print(f\"Finished: took {time.time()-tic} sec. Saving files...\")\n",
    "    dxchange.write_tiff_stack(recon, fname=save_name, start=start_iter)\n",
    "print(\"Done\")"
   ]
  },
  {
   "cell_type": "markdown",
   "id": "2dd98a06-73a8-4b3e-80a0-8d85e94700ad",
   "metadata": {},
   "source": [
    "### Reconstruct and save with NERSC batch job\n",
    "##### 1. The cell below prepares the config script needed to submit a job"
   ]
  },
  {
   "cell_type": "code",
   "execution_count": null,
   "id": "65336028-054b-4b9d-ba5b-0232979977f6",
   "metadata": {},
   "outputs": [],
   "source": [
    "import batch_recon\n",
    "\n",
    "with open (als.get_batch_template(), \"r\") as t:\n",
    "    template = t.read()\n",
    "    \n",
    "configs_dir = Path(os.path.join(settings[\"data\"][\"output_path\"],\"configs/\"))\n",
    "if not configs_dir.exists():\n",
    "    os.mkdir(configs_dir)\n",
    "\n",
    "config_script_name = os.path.join(configs_dir,\"config_\"+settings[\"data\"][\"name\"]+\".sh\")    \n",
    "enc = batch_recon.dictionary_prep(settings)\n",
    "with open(config_script_name, 'w') as f:\n",
    "    script = template\n",
    "    script += \"\\n\"\n",
    "    script += \"cd \" + os.getcwd()\n",
    "    script += \"\\n\"\n",
    "    script += \"shifter python batch_recon.py\"\n",
    "    script += \" '\" + enc + \"'\"\n",
    "    f.write(script)\n",
    "    f.close()\n",
    "    \n",
    "# list configsDir\n",
    "print(f\"Contents of batch jobs configs directory: {configs_dir}\") \n",
    "os.system(f\"ls {configs_dir}\")\n",
    "print('')"
   ]
  },
  {
   "cell_type": "markdown",
   "id": "770e6944-a05b-4c1c-8b00-f61cb1ee8c97",
   "metadata": {},
   "source": [
    "##### 2. Run the following cell to submit the batch job (can't submit when using entrypoint) "
   ]
  },
  {
   "cell_type": "code",
   "execution_count": null,
   "id": "324993ad-2a9b-48a8-a22d-ab9a076f639a",
   "metadata": {},
   "outputs": [],
   "source": [
    "# submit batch job config you just created\n",
    "os.system(f\"sbatch {os.path.join(configs_dir,config_script_name)}\")\n",
    "# see all current batch jobs (including this interavtive jupyter session)\n",
    "print(\"List of current batch jobs:\")\n",
    "os.system(\"sqs\")"
   ]
  },
  {
   "cell_type": "markdown",
   "id": "36f20d19-c6af-44b6-9241-3248e21a3c5a",
   "metadata": {},
   "source": [
    "##### To cancel a batch job, run this cell with the right Job ID"
   ]
  },
  {
   "cell_type": "code",
   "execution_count": null,
   "id": "dfd16ede-9fe1-4c7e-a6c8-e421b1b91123",
   "metadata": {},
   "outputs": [],
   "source": [
    "# eq. scancel 2800193\n",
    "os.system(\"scancel 0000000\")"
   ]
  },
  {
   "cell_type": "markdown",
   "id": "06fc707e-a04c-4026-96e7-ed51e6958936",
   "metadata": {},
   "source": [
    "### Alternatively, you can submit all job scripts in a folder at once using helper bash script\n",
    "##### 1. Modify first line of submit_all_jobs_template.sh with your configs directory (from cell below)\n",
    "##### 2. Save as new bash script (eg. my_submit_all_jobs.sh)\n",
    "##### 3. In terminal, `source [bash script name]`"
   ]
  },
  {
   "cell_type": "code",
   "execution_count": null,
   "id": "e7ae5a16-da56-4a67-a3ff-efabb17712f1",
   "metadata": {},
   "outputs": [],
   "source": [
    "#Please use this to change out the filepath in the \n",
    "#bash script (the helper script to loop and submit all configs).\n",
    "print(str(configs_dir.absolute())+\"/*\")"
   ]
  },
  {
   "cell_type": "markdown",
   "id": "1185156f-aafd-4daa-9add-dd5c393fc177",
   "metadata": {},
   "source": [
    "## Optional: SVMBIR reconstruction (for better image quality)\n",
    "##### Note: SVMBIR is MUCH slower. At full resolution (1313 ang x 2560 rays), takes ~2-4 min/slice with all 128 exclusive node threads (uses CPU only). Downsampling by 2x reduces time by ~4x"
   ]
  },
  {
   "cell_type": "code",
   "execution_count": null,
   "id": "ad159fd4-72a3-4028-a04b-0c3914f7d36f",
   "metadata": {
    "tags": []
   },
   "outputs": [],
   "source": [
    "svmbir_header_widget = widgets.Label(value=\"Choose SVMBIR parameters\",layout=widgets.Layout(justify_content=\"center\"))\n",
    "blank_widget = widgets.Label(value=\"\",layout=widgets.Layout(justify_content=\"center\"))\n",
    "p_widget = widgets.BoundedFloatText(description='p',\n",
    "                                min=1,\n",
    "                                max=2,\n",
    "                                step=0.01,\n",
    "                                value=1.2,\n",
    "    style={'description_width': 'initial'} # this makes sure description text doesn't get cut off\n",
    ")\n",
    "q_widget = widgets.BoundedFloatText(description='q',\n",
    "                                min=1,\n",
    "                                max=2,\n",
    "                                step=0.01,\n",
    "                                value=2,\n",
    "    style={'description_width': 'initial'} # this makes sure description text doesn't get cut off\n",
    ")\n",
    "T_widget = widgets.BoundedFloatText(description='T',\n",
    "                                min=0.01,\n",
    "                                max=10,\n",
    "                                step=0.01,\n",
    "                                value=0.1,\n",
    "    style={'description_width': 'initial'} # this makes sure description text doesn't get cut off\n",
    ")\n",
    "sharpness_widget = widgets.BoundedFloatText(description='sharpness',\n",
    "                                min=-10,\n",
    "                                max=10,\n",
    "                                step=0.1,\n",
    "                                value=0,\n",
    "    style={'description_width': 'initial'} # this makes sure description text doesn't get cut off\n",
    ")\n",
    "snr_dB_widget = widgets.BoundedFloatText(description='snr_dB',\n",
    "                                min=0,\n",
    "                                max=80,\n",
    "                                step=1,\n",
    "                                value=40,\n",
    "    style={'description_width': 'initial'} # this makes sure description text doesn't get cut off\n",
    ")\n",
    "svmbir_slice_widget = widgets.BoundedIntText(description='Slice number',\n",
    "                                min=0,\n",
    "                                max=metadata['numslices']-1,\n",
    "                                step=1,\n",
    "                                value=metadata['numslices']//2,\n",
    "    style={'description_width': 'initial'} # this makes sure description text doesn't get cut off\n",
    ")\n",
    "\n",
    "svmbir_box = widgets.HBox([\n",
    "                        widgets.VBox([svmbir_slice_widget, svmbir_header_widget,p_widget,q_widget]),\n",
    "                        widgets.VBox([blank_widget, blank_widget,T_widget,sharpness_widget,snr_dB_widget])\n",
    "])\n",
    "display(svmbir_box)"
   ]
  },
  {
   "cell_type": "markdown",
   "id": "06a3e5d1-1dac-461b-85f0-d5769ed910d0",
   "metadata": {},
   "source": [
    "#### SVMBIR Parameters\n",
    "**p**: smoothing parameter for large grayscale differences (ie contrasting pixels). Between 1 and 2 (1 = total variation regularization, 2 = Tikhonov regularization)\n",
    "\n",
    "**q**: smoothing parameter for small grayscale differences (ie. similar pixels). Between p and 2\n",
    "\n",
    "**T**: transition value from q to p (in pixel grayscale difference). Must be > 0\n",
    "\n",
    "**sharpness**: strength of smoothing -- lower is more smooth. +1 change is equivalent to +6 dB snr. Can typically just change one or the other\n",
    "\n",
    "**snr_dB**: strength of smoothing -- lower is more smooth. +6 dB is equivalent to +1 sharpness. Can typically just change one or the other"
   ]
  },
  {
   "cell_type": "code",
   "execution_count": null,
   "id": "53ba1577-29e0-4ad9-a9e2-2f1f8971215b",
   "metadata": {
    "tags": []
   },
   "outputs": [],
   "source": [
    "%%time\n",
    "slices_ind = slice(svmbir_slice_widget.value,svmbir_slice_widget.value+1,1)\n",
    "\n",
    "tic = time.time()\n",
    "\n",
    "tomo, angles = als.read_data(settings[\"data\"][\"data_path\"],\n",
    "                             proj=settings[\"data\"][\"angles_ind\"],\n",
    "                             sino=slices_ind,\n",
    "                             downsample_factor=settings[\"data\"][\"proj_downsample\"],\n",
    "                             args=settings[\"preprocess\"])\n",
    "\n",
    "astra_recon = als.astra_fbp_recon(tomo, angles,\n",
    "                                  COR=settings[\"recon\"][\"COR\"]/settings[\"data\"][\"proj_downsample\"],\n",
    "                                  fc=settings[\"recon\"][\"fc\"],\n",
    "                                  gpu=settings[\"recon\"][\"use_gpu\"]\n",
    "                                  )\n",
    "\n",
    "print(f\"Finished Astra recon, took {time.time()-tic} sec. Starting SVBMIR...\")\n",
    "\n",
    "settings[\"svmbir_settings\"] = {\n",
    "    \"p\": p_widget.value, \n",
    "    \"q\": q_widget.value, \n",
    "    \"T\": T_widget.value,\n",
    "    \"sharpness\": sharpness_widget.value, \n",
    "    \"snr_dB\": snr_dB_widget.value,\n",
    "    \"max_iter\": 100,\n",
    "    \"COR\": settings['recon']['COR']/settings[\"data\"][\"proj_downsample\"],\n",
    "    \"init_image\": astra_recon.copy()\n",
    "}\n",
    "\n",
    "tic = time.time()\n",
    "\n",
    "tomo, angles = als.read_data(settings[\"data\"][\"data_path\"],\n",
    "                             proj=settings[\"data\"][\"angles_ind\"],\n",
    "                             sino=slices_ind,\n",
    "                             downsample_factor=settings[\"data\"][\"proj_downsample\"],\n",
    "                             args=settings[\"preprocess\"])\n",
    "\n",
    "svmbir_recon = als.svmbir_recon(tomo,angles,**settings[\"svmbir_settings\"])\n",
    "print(f\"Finished SVMBIR recon, took {time.time()-tic} sec\")\n",
    "print('')\n",
    "print('This took:')"
   ]
  },
  {
   "cell_type": "code",
   "execution_count": null,
   "id": "3d14c0ed-8813-4621-a874-feafcf0e77e2",
   "metadata": {},
   "outputs": [],
   "source": [
    "img, axs, clim_slider = als.plot_recon_comparison(astra_recon, svmbir_recon, titles=['FBP','SVMBIR'], fignum=5, figsize=4)\n",
    "display(clim_slider)"
   ]
  },
  {
   "cell_type": "markdown",
   "id": "2eb9a913-1bef-423d-b155-6ebc5c01492f",
   "metadata": {},
   "source": [
    "#### Create SVMBIR batch job config script (this part doesn't work yet)"
   ]
  },
  {
   "cell_type": "code",
   "execution_count": null,
   "id": "38623899-a947-4caa-b8af-a8700818285f",
   "metadata": {},
   "outputs": [],
   "source": [
    "import batch_recon\n",
    "\n",
    "with open (als.get_batch_template(\"svmbir\"), \"r\") as t:\n",
    "    template = t.read()\n",
    "    \n",
    "configs_dir = Path(os.path.join(settings[\"data\"][\"output_path\"],\"configs/\"))\n",
    "if not configs_dir.exists():\n",
    "    os.mkdir(configs_dir)\n",
    "\n",
    "config_script_name = os.path.join(configs_dir,\"config_\"+settings[\"data\"][\"name\"]+\".sh\")    \n",
    "enc = batch_recon.dictionary_prep(settings)\n",
    "with open(config_script_name, 'w') as f:\n",
    "    script = template\n",
    "    script += \"\\n\"\n",
    "    script += \"cd \" + os.getcwd()\n",
    "    script += \"\\n\"\n",
    "    script += \"srun -N 20 -n 640 python batch_recon.py\"\n",
    "    script += \" '\" + enc + \"'\"\n",
    "    f.write(script)\n",
    "    f.close()\n",
    "    \n",
    "# list configsDir\n",
    "print(f\"Contents of batch jobs configs directory: {configs_dir}\") \n",
    "os.system(f\"ls {configs_dir}\")\n",
    "print('')"
   ]
  }
 ],
 "metadata": {
  "kernelspec": {
   "display_name": "tomo832",
   "language": "python",
   "name": "tomo832"
  },
  "language_info": {
   "codemirror_mode": {
    "name": "ipython",
    "version": 3
   },
   "file_extension": ".py",
   "mimetype": "text/x-python",
   "name": "python",
   "nbconvert_exporter": "python",
   "pygments_lexer": "ipython3",
   "version": "3.8.13"
  },
  "toc-autonumbering": false,
  "toc-showcode": true,
  "toc-showmarkdowntxt": false,
  "toc-showtags": false
 },
 "nbformat": 4,
 "nbformat_minor": 5
}
